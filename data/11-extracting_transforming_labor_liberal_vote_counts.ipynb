{
 "cells": [
  {
   "cell_type": "code",
   "execution_count": 12,
   "metadata": {},
   "outputs": [],
   "source": [
    "# Imports\n",
    "import pandas as pd"
   ]
  },
  {
   "cell_type": "markdown",
   "metadata": {},
   "source": [
    "# Extracting "
   ]
  },
  {
   "cell_type": "markdown",
   "metadata": {},
   "source": [
    "### Extracting labor or liberal vote counts "
   ]
  },
  {
   "cell_type": "code",
   "execution_count": 13,
   "metadata": {},
   "outputs": [
    {
     "data": {
      "text/html": [
       "<div>\n",
       "<style scoped>\n",
       "    .dataframe tbody tr th:only-of-type {\n",
       "        vertical-align: middle;\n",
       "    }\n",
       "\n",
       "    .dataframe tbody tr th {\n",
       "        vertical-align: top;\n",
       "    }\n",
       "\n",
       "    .dataframe thead th {\n",
       "        text-align: right;\n",
       "    }\n",
       "</style>\n",
       "<table border=\"1\" class=\"dataframe\">\n",
       "  <thead>\n",
       "    <tr style=\"text-align: right;\">\n",
       "      <th></th>\n",
       "      <th>DivisionNm</th>\n",
       "      <th>DivisionID</th>\n",
       "      <th>StateAb</th>\n",
       "      <th>PartyAb</th>\n",
       "      <th>Liberal/National Coalition Votes</th>\n",
       "      <th>Liberal/National Coalition Percentage</th>\n",
       "      <th>Australian Labor Party Votes</th>\n",
       "      <th>Australian Labor Party Percentage</th>\n",
       "      <th>TotalVotes</th>\n",
       "      <th>Swing</th>\n",
       "    </tr>\n",
       "  </thead>\n",
       "  <tbody>\n",
       "    <tr>\n",
       "      <th>0</th>\n",
       "      <td>Adelaide</td>\n",
       "      <td>179</td>\n",
       "      <td>SA</td>\n",
       "      <td>ALP</td>\n",
       "      <td>43325</td>\n",
       "      <td>45.35</td>\n",
       "      <td>52219</td>\n",
       "      <td>54.65</td>\n",
       "      <td>95544</td>\n",
       "      <td>-0.70</td>\n",
       "    </tr>\n",
       "    <tr>\n",
       "      <th>1</th>\n",
       "      <td>Aston</td>\n",
       "      <td>197</td>\n",
       "      <td>VIC</td>\n",
       "      <td>LP</td>\n",
       "      <td>50142</td>\n",
       "      <td>58.59</td>\n",
       "      <td>35444</td>\n",
       "      <td>41.41</td>\n",
       "      <td>85586</td>\n",
       "      <td>0.39</td>\n",
       "    </tr>\n",
       "    <tr>\n",
       "      <th>2</th>\n",
       "      <td>Ballarat</td>\n",
       "      <td>198</td>\n",
       "      <td>VIC</td>\n",
       "      <td>ALP</td>\n",
       "      <td>41705</td>\n",
       "      <td>42.68</td>\n",
       "      <td>56002</td>\n",
       "      <td>57.32</td>\n",
       "      <td>97707</td>\n",
       "      <td>-2.43</td>\n",
       "    </tr>\n",
       "    <tr>\n",
       "      <th>3</th>\n",
       "      <td>Banks</td>\n",
       "      <td>103</td>\n",
       "      <td>NSW</td>\n",
       "      <td>LP</td>\n",
       "      <td>46210</td>\n",
       "      <td>51.44</td>\n",
       "      <td>43622</td>\n",
       "      <td>48.56</td>\n",
       "      <td>89832</td>\n",
       "      <td>-1.36</td>\n",
       "    </tr>\n",
       "    <tr>\n",
       "      <th>4</th>\n",
       "      <td>Barker</td>\n",
       "      <td>180</td>\n",
       "      <td>SA</td>\n",
       "      <td>LP</td>\n",
       "      <td>61566</td>\n",
       "      <td>65.19</td>\n",
       "      <td>32879</td>\n",
       "      <td>34.81</td>\n",
       "      <td>94445</td>\n",
       "      <td>-1.36</td>\n",
       "    </tr>\n",
       "  </tbody>\n",
       "</table>\n",
       "</div>"
      ],
      "text/plain": [
       "  DivisionNm  DivisionID StateAb PartyAb  Liberal/National Coalition Votes  \\\n",
       "0   Adelaide         179      SA     ALP                             43325   \n",
       "1      Aston         197     VIC      LP                             50142   \n",
       "2   Ballarat         198     VIC     ALP                             41705   \n",
       "3      Banks         103     NSW      LP                             46210   \n",
       "4     Barker         180      SA      LP                             61566   \n",
       "\n",
       "   Liberal/National Coalition Percentage  Australian Labor Party Votes  \\\n",
       "0                                  45.35                         52219   \n",
       "1                                  58.59                         35444   \n",
       "2                                  42.68                         56002   \n",
       "3                                  51.44                         43622   \n",
       "4                                  65.19                         32879   \n",
       "\n",
       "   Australian Labor Party Percentage  TotalVotes  Swing  \n",
       "0                              54.65       95544  -0.70  \n",
       "1                              41.41       85586   0.39  \n",
       "2                              57.32       97707  -2.43  \n",
       "3                              48.56       89832  -1.36  \n",
       "4                              34.81       94445  -1.36  "
      ]
     },
     "execution_count": 13,
     "metadata": {},
     "output_type": "execute_result"
    }
   ],
   "source": [
    "# Reading in the csv\n",
    "df = pd.read_csv('Resources/labor_liberal_vote_counts.csv', header=1)\n",
    "df.head()"
   ]
  },
  {
   "cell_type": "markdown",
   "metadata": {},
   "source": [
    "# Transforming"
   ]
  },
  {
   "cell_type": "markdown",
   "metadata": {},
   "source": [
    "### Removing unwanted columns and renaming"
   ]
  },
  {
   "cell_type": "code",
   "execution_count": 14,
   "metadata": {},
   "outputs": [
    {
     "data": {
      "text/html": [
       "<div>\n",
       "<style scoped>\n",
       "    .dataframe tbody tr th:only-of-type {\n",
       "        vertical-align: middle;\n",
       "    }\n",
       "\n",
       "    .dataframe tbody tr th {\n",
       "        vertical-align: top;\n",
       "    }\n",
       "\n",
       "    .dataframe thead th {\n",
       "        text-align: right;\n",
       "    }\n",
       "</style>\n",
       "<table border=\"1\" class=\"dataframe\">\n",
       "  <thead>\n",
       "    <tr style=\"text-align: right;\">\n",
       "      <th></th>\n",
       "      <th>DivisionID</th>\n",
       "      <th>Liberal/National Coalition Votes</th>\n",
       "      <th>Liberal/National Coalition Percentage</th>\n",
       "      <th>Australian Labor Party Votes</th>\n",
       "      <th>Australian Labor Party Percentage</th>\n",
       "    </tr>\n",
       "  </thead>\n",
       "  <tbody>\n",
       "    <tr>\n",
       "      <th>0</th>\n",
       "      <td>179</td>\n",
       "      <td>43325</td>\n",
       "      <td>45.35</td>\n",
       "      <td>52219</td>\n",
       "      <td>54.65</td>\n",
       "    </tr>\n",
       "    <tr>\n",
       "      <th>1</th>\n",
       "      <td>197</td>\n",
       "      <td>50142</td>\n",
       "      <td>58.59</td>\n",
       "      <td>35444</td>\n",
       "      <td>41.41</td>\n",
       "    </tr>\n",
       "    <tr>\n",
       "      <th>2</th>\n",
       "      <td>198</td>\n",
       "      <td>41705</td>\n",
       "      <td>42.68</td>\n",
       "      <td>56002</td>\n",
       "      <td>57.32</td>\n",
       "    </tr>\n",
       "    <tr>\n",
       "      <th>3</th>\n",
       "      <td>103</td>\n",
       "      <td>46210</td>\n",
       "      <td>51.44</td>\n",
       "      <td>43622</td>\n",
       "      <td>48.56</td>\n",
       "    </tr>\n",
       "    <tr>\n",
       "      <th>4</th>\n",
       "      <td>180</td>\n",
       "      <td>61566</td>\n",
       "      <td>65.19</td>\n",
       "      <td>32879</td>\n",
       "      <td>34.81</td>\n",
       "    </tr>\n",
       "  </tbody>\n",
       "</table>\n",
       "</div>"
      ],
      "text/plain": [
       "   DivisionID  Liberal/National Coalition Votes  \\\n",
       "0         179                             43325   \n",
       "1         197                             50142   \n",
       "2         198                             41705   \n",
       "3         103                             46210   \n",
       "4         180                             61566   \n",
       "\n",
       "   Liberal/National Coalition Percentage  Australian Labor Party Votes  \\\n",
       "0                                  45.35                         52219   \n",
       "1                                  58.59                         35444   \n",
       "2                                  42.68                         56002   \n",
       "3                                  51.44                         43622   \n",
       "4                                  65.19                         32879   \n",
       "\n",
       "   Australian Labor Party Percentage  \n",
       "0                              54.65  \n",
       "1                              41.41  \n",
       "2                              57.32  \n",
       "3                              48.56  \n",
       "4                              34.81  "
      ]
     },
     "execution_count": 14,
     "metadata": {},
     "output_type": "execute_result"
    }
   ],
   "source": [
    "# Dropping State column\n",
    "df = df.drop(columns = [\"DivisionNm\", \"StateAb\", \"PartyAb\", \"TotalVotes\", \"Swing\"])\n",
    "df.head()"
   ]
  },
  {
   "cell_type": "code",
   "execution_count": 15,
   "metadata": {},
   "outputs": [
    {
     "data": {
      "text/html": [
       "<div>\n",
       "<style scoped>\n",
       "    .dataframe tbody tr th:only-of-type {\n",
       "        vertical-align: middle;\n",
       "    }\n",
       "\n",
       "    .dataframe tbody tr th {\n",
       "        vertical-align: top;\n",
       "    }\n",
       "\n",
       "    .dataframe thead th {\n",
       "        text-align: right;\n",
       "    }\n",
       "</style>\n",
       "<table border=\"1\" class=\"dataframe\">\n",
       "  <thead>\n",
       "    <tr style=\"text-align: right;\">\n",
       "      <th></th>\n",
       "      <th>division_id</th>\n",
       "      <th>liberal_votes</th>\n",
       "      <th>liberal_percent</th>\n",
       "      <th>labor_votes</th>\n",
       "      <th>labor_percent</th>\n",
       "    </tr>\n",
       "  </thead>\n",
       "  <tbody>\n",
       "    <tr>\n",
       "      <th>0</th>\n",
       "      <td>179</td>\n",
       "      <td>43325</td>\n",
       "      <td>45.35</td>\n",
       "      <td>52219</td>\n",
       "      <td>54.65</td>\n",
       "    </tr>\n",
       "    <tr>\n",
       "      <th>1</th>\n",
       "      <td>197</td>\n",
       "      <td>50142</td>\n",
       "      <td>58.59</td>\n",
       "      <td>35444</td>\n",
       "      <td>41.41</td>\n",
       "    </tr>\n",
       "    <tr>\n",
       "      <th>2</th>\n",
       "      <td>198</td>\n",
       "      <td>41705</td>\n",
       "      <td>42.68</td>\n",
       "      <td>56002</td>\n",
       "      <td>57.32</td>\n",
       "    </tr>\n",
       "    <tr>\n",
       "      <th>3</th>\n",
       "      <td>103</td>\n",
       "      <td>46210</td>\n",
       "      <td>51.44</td>\n",
       "      <td>43622</td>\n",
       "      <td>48.56</td>\n",
       "    </tr>\n",
       "    <tr>\n",
       "      <th>4</th>\n",
       "      <td>180</td>\n",
       "      <td>61566</td>\n",
       "      <td>65.19</td>\n",
       "      <td>32879</td>\n",
       "      <td>34.81</td>\n",
       "    </tr>\n",
       "  </tbody>\n",
       "</table>\n",
       "</div>"
      ],
      "text/plain": [
       "   division_id  liberal_votes  liberal_percent  labor_votes  labor_percent\n",
       "0          179          43325            45.35        52219          54.65\n",
       "1          197          50142            58.59        35444          41.41\n",
       "2          198          41705            42.68        56002          57.32\n",
       "3          103          46210            51.44        43622          48.56\n",
       "4          180          61566            65.19        32879          34.81"
      ]
     },
     "execution_count": 15,
     "metadata": {},
     "output_type": "execute_result"
    }
   ],
   "source": [
    "# Renaming the columns\n",
    "df.columns = ['division_id', 'liberal_votes', 'liberal_percent', 'labor_votes', 'labor_percent']\n",
    "df.head()"
   ]
  },
  {
   "cell_type": "markdown",
   "metadata": {},
   "source": [
    "### Checking for the presence of NaN values"
   ]
  },
  {
   "cell_type": "code",
   "execution_count": 17,
   "metadata": {},
   "outputs": [
    {
     "name": "stdout",
     "output_type": "stream",
     "text": [
      "division_id        0\n",
      "liberal_votes      0\n",
      "liberal_percent    0\n",
      "labor_votes        0\n",
      "labor_percent      0\n",
      "dtype: int64\n"
     ]
    }
   ],
   "source": [
    "# Summing the NaN values to see how many there are per column\n",
    "print(df.isnull().sum())"
   ]
  },
  {
   "cell_type": "code",
   "execution_count": 18,
   "metadata": {},
   "outputs": [
    {
     "data": {
      "text/html": [
       "<div>\n",
       "<style scoped>\n",
       "    .dataframe tbody tr th:only-of-type {\n",
       "        vertical-align: middle;\n",
       "    }\n",
       "\n",
       "    .dataframe tbody tr th {\n",
       "        vertical-align: top;\n",
       "    }\n",
       "\n",
       "    .dataframe thead th {\n",
       "        text-align: right;\n",
       "    }\n",
       "</style>\n",
       "<table border=\"1\" class=\"dataframe\">\n",
       "  <thead>\n",
       "    <tr style=\"text-align: right;\">\n",
       "      <th></th>\n",
       "      <th>division_id</th>\n",
       "      <th>liberal_votes</th>\n",
       "      <th>liberal_percent</th>\n",
       "      <th>labor_votes</th>\n",
       "      <th>labor_percent</th>\n",
       "    </tr>\n",
       "  </thead>\n",
       "  <tbody>\n",
       "    <tr>\n",
       "      <th>145</th>\n",
       "      <td>153</td>\n",
       "      <td>37356</td>\n",
       "      <td>41.80</td>\n",
       "      <td>52005</td>\n",
       "      <td>58.20</td>\n",
       "    </tr>\n",
       "    <tr>\n",
       "      <th>146</th>\n",
       "      <td>150</td>\n",
       "      <td>35711</td>\n",
       "      <td>36.28</td>\n",
       "      <td>62730</td>\n",
       "      <td>63.72</td>\n",
       "    </tr>\n",
       "    <tr>\n",
       "      <th>147</th>\n",
       "      <td>178</td>\n",
       "      <td>52264</td>\n",
       "      <td>58.14</td>\n",
       "      <td>37625</td>\n",
       "      <td>41.86</td>\n",
       "    </tr>\n",
       "    <tr>\n",
       "      <th>148</th>\n",
       "      <td>234</td>\n",
       "      <td>27071</td>\n",
       "      <td>28.77</td>\n",
       "      <td>67037</td>\n",
       "      <td>71.23</td>\n",
       "    </tr>\n",
       "    <tr>\n",
       "      <th>149</th>\n",
       "      <td>316</td>\n",
       "      <td>52651</td>\n",
       "      <td>59.62</td>\n",
       "      <td>35667</td>\n",
       "      <td>40.38</td>\n",
       "    </tr>\n",
       "  </tbody>\n",
       "</table>\n",
       "</div>"
      ],
      "text/plain": [
       "     division_id  liberal_votes  liberal_percent  labor_votes  labor_percent\n",
       "145          153          37356            41.80        52005          58.20\n",
       "146          150          35711            36.28        62730          63.72\n",
       "147          178          52264            58.14        37625          41.86\n",
       "148          234          27071            28.77        67037          71.23\n",
       "149          316          52651            59.62        35667          40.38"
      ]
     },
     "execution_count": 18,
     "metadata": {},
     "output_type": "execute_result"
    }
   ],
   "source": [
    "df.tail()"
   ]
  },
  {
   "cell_type": "markdown",
   "metadata": {},
   "source": [
    "### Checking the datatypes"
   ]
  },
  {
   "cell_type": "code",
   "execution_count": 19,
   "metadata": {},
   "outputs": [
    {
     "data": {
      "text/plain": [
       "division_id          int64\n",
       "liberal_votes        int64\n",
       "liberal_percent    float64\n",
       "labor_votes          int64\n",
       "labor_percent      float64\n",
       "dtype: object"
      ]
     },
     "execution_count": 19,
     "metadata": {},
     "output_type": "execute_result"
    }
   ],
   "source": [
    "# check datatypes\n",
    "df.dtypes"
   ]
  },
  {
   "cell_type": "markdown",
   "metadata": {},
   "source": [
    "### Don't need to merge with a second dataframe as division id is present"
   ]
  },
  {
   "cell_type": "code",
   "execution_count": 20,
   "metadata": {},
   "outputs": [
    {
     "data": {
      "text/html": [
       "<div>\n",
       "<style scoped>\n",
       "    .dataframe tbody tr th:only-of-type {\n",
       "        vertical-align: middle;\n",
       "    }\n",
       "\n",
       "    .dataframe tbody tr th {\n",
       "        vertical-align: top;\n",
       "    }\n",
       "\n",
       "    .dataframe thead th {\n",
       "        text-align: right;\n",
       "    }\n",
       "</style>\n",
       "<table border=\"1\" class=\"dataframe\">\n",
       "  <thead>\n",
       "    <tr style=\"text-align: right;\">\n",
       "      <th></th>\n",
       "      <th>liberal_votes</th>\n",
       "      <th>liberal_percent</th>\n",
       "      <th>labor_votes</th>\n",
       "      <th>labor_percent</th>\n",
       "    </tr>\n",
       "    <tr>\n",
       "      <th>division_id</th>\n",
       "      <th></th>\n",
       "      <th></th>\n",
       "      <th></th>\n",
       "      <th></th>\n",
       "    </tr>\n",
       "  </thead>\n",
       "  <tbody>\n",
       "    <tr>\n",
       "      <th>179</th>\n",
       "      <td>43325</td>\n",
       "      <td>45.35</td>\n",
       "      <td>52219</td>\n",
       "      <td>54.65</td>\n",
       "    </tr>\n",
       "    <tr>\n",
       "      <th>197</th>\n",
       "      <td>50142</td>\n",
       "      <td>58.59</td>\n",
       "      <td>35444</td>\n",
       "      <td>41.41</td>\n",
       "    </tr>\n",
       "    <tr>\n",
       "      <th>198</th>\n",
       "      <td>41705</td>\n",
       "      <td>42.68</td>\n",
       "      <td>56002</td>\n",
       "      <td>57.32</td>\n",
       "    </tr>\n",
       "    <tr>\n",
       "      <th>103</th>\n",
       "      <td>46210</td>\n",
       "      <td>51.44</td>\n",
       "      <td>43622</td>\n",
       "      <td>48.56</td>\n",
       "    </tr>\n",
       "    <tr>\n",
       "      <th>180</th>\n",
       "      <td>61566</td>\n",
       "      <td>65.19</td>\n",
       "      <td>32879</td>\n",
       "      <td>34.81</td>\n",
       "    </tr>\n",
       "  </tbody>\n",
       "</table>\n",
       "</div>"
      ],
      "text/plain": [
       "             liberal_votes  liberal_percent  labor_votes  labor_percent\n",
       "division_id                                                            \n",
       "179                  43325            45.35        52219          54.65\n",
       "197                  50142            58.59        35444          41.41\n",
       "198                  41705            42.68        56002          57.32\n",
       "103                  46210            51.44        43622          48.56\n",
       "180                  61566            65.19        32879          34.81"
      ]
     },
     "execution_count": 20,
     "metadata": {},
     "output_type": "execute_result"
    }
   ],
   "source": [
    "# Setting the index\n",
    "df = df.set_index('division_id')\n",
    "df.head()"
   ]
  },
  {
   "cell_type": "markdown",
   "metadata": {},
   "source": [
    "# Exploratory Data Analysis - in the interest of project 2"
   ]
  },
  {
   "cell_type": "code",
   "execution_count": 27,
   "metadata": {},
   "outputs": [
    {
     "name": "stdout",
     "output_type": "stream",
     "text": [
      "27.64 74.9\n"
     ]
    }
   ],
   "source": [
    "# to check the range of values we will have for our bubble chart\n",
    "lib_max = df['liberal_percent'].max()\n",
    "lib_min = df['liberal_percent'].min()\n",
    "print (lib_min, lib_max)"
   ]
  },
  {
   "cell_type": "code",
   "execution_count": 28,
   "metadata": {},
   "outputs": [
    {
     "name": "stdout",
     "output_type": "stream",
     "text": [
      "25.1 72.36\n"
     ]
    }
   ],
   "source": [
    "lab_max = df['labor_percent'].max()\n",
    "lab_min = df['labor_percent'].min()\n",
    "print (lab_min, lab_max)"
   ]
  },
  {
   "cell_type": "markdown",
   "metadata": {},
   "source": [
    "# Exporting to csv"
   ]
  },
  {
   "cell_type": "code",
   "execution_count": 29,
   "metadata": {},
   "outputs": [],
   "source": [
    "# Exporting dataframe to csv\n",
    "df.to_csv(\"11-output_labor_liberal_vote_counts/11-labor_liberal_votes.csv\")"
   ]
  }
 ],
 "metadata": {
  "kernelspec": {
   "display_name": "Python 3",
   "language": "python",
   "name": "python3"
  },
  "language_info": {
   "codemirror_mode": {
    "name": "ipython",
    "version": 3
   },
   "file_extension": ".py",
   "mimetype": "text/x-python",
   "name": "python",
   "nbconvert_exporter": "python",
   "pygments_lexer": "ipython3",
   "version": "3.8.3"
  }
 },
 "nbformat": 4,
 "nbformat_minor": 4
}
