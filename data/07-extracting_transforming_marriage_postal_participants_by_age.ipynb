{
 "cells": [
  {
   "cell_type": "code",
   "execution_count": 1,
   "metadata": {},
   "outputs": [],
   "source": [
    "import pandas as pd"
   ]
  },
  {
   "cell_type": "markdown",
   "metadata": {},
   "source": [
    "# Extracting marriage postal survey participant data"
   ]
  },
  {
   "cell_type": "code",
   "execution_count": 2,
   "metadata": {},
   "outputs": [],
   "source": [
    "df = pd.read_csv('Resources/participant-information.csv')"
   ]
  },
  {
   "cell_type": "code",
   "execution_count": 3,
   "metadata": {},
   "outputs": [
    {
     "data": {
      "text/html": [
       "<div>\n",
       "<style scoped>\n",
       "    .dataframe tbody tr th:only-of-type {\n",
       "        vertical-align: middle;\n",
       "    }\n",
       "\n",
       "    .dataframe tbody tr th {\n",
       "        vertical-align: top;\n",
       "    }\n",
       "\n",
       "    .dataframe thead th {\n",
       "        text-align: right;\n",
       "    }\n",
       "</style>\n",
       "<table border=\"1\" class=\"dataframe\">\n",
       "  <thead>\n",
       "    <tr style=\"text-align: right;\">\n",
       "      <th></th>\n",
       "      <th>electoral_division</th>\n",
       "      <th>state</th>\n",
       "      <th>gender</th>\n",
       "      <th>age</th>\n",
       "      <th>age_lower</th>\n",
       "      <th>age_upper</th>\n",
       "      <th>eligible</th>\n",
       "      <th>participant</th>\n",
       "    </tr>\n",
       "  </thead>\n",
       "  <tbody>\n",
       "    <tr>\n",
       "      <th>0</th>\n",
       "      <td>Canberra</td>\n",
       "      <td>Australian Capital Territory Divisions</td>\n",
       "      <td>female</td>\n",
       "      <td>18-19</td>\n",
       "      <td>18</td>\n",
       "      <td>19</td>\n",
       "      <td>2,433</td>\n",
       "      <td>2,092</td>\n",
       "    </tr>\n",
       "    <tr>\n",
       "      <th>1</th>\n",
       "      <td>Canberra</td>\n",
       "      <td>Australian Capital Territory Divisions</td>\n",
       "      <td>female</td>\n",
       "      <td>20-24</td>\n",
       "      <td>20</td>\n",
       "      <td>24</td>\n",
       "      <td>6,171</td>\n",
       "      <td>5,084</td>\n",
       "    </tr>\n",
       "    <tr>\n",
       "      <th>2</th>\n",
       "      <td>Canberra</td>\n",
       "      <td>Australian Capital Territory Divisions</td>\n",
       "      <td>female</td>\n",
       "      <td>25-29</td>\n",
       "      <td>25</td>\n",
       "      <td>29</td>\n",
       "      <td>6,464</td>\n",
       "      <td>5,343</td>\n",
       "    </tr>\n",
       "    <tr>\n",
       "      <th>3</th>\n",
       "      <td>Canberra</td>\n",
       "      <td>Australian Capital Territory Divisions</td>\n",
       "      <td>female</td>\n",
       "      <td>30-34</td>\n",
       "      <td>30</td>\n",
       "      <td>34</td>\n",
       "      <td>6,359</td>\n",
       "      <td>5,260</td>\n",
       "    </tr>\n",
       "    <tr>\n",
       "      <th>4</th>\n",
       "      <td>Canberra</td>\n",
       "      <td>Australian Capital Territory Divisions</td>\n",
       "      <td>female</td>\n",
       "      <td>35-39</td>\n",
       "      <td>35</td>\n",
       "      <td>39</td>\n",
       "      <td>6,134</td>\n",
       "      <td>4,990</td>\n",
       "    </tr>\n",
       "  </tbody>\n",
       "</table>\n",
       "</div>"
      ],
      "text/plain": [
       "  electoral_division                                   state  gender    age  \\\n",
       "0           Canberra  Australian Capital Territory Divisions  female  18-19   \n",
       "1           Canberra  Australian Capital Territory Divisions  female  20-24   \n",
       "2           Canberra  Australian Capital Territory Divisions  female  25-29   \n",
       "3           Canberra  Australian Capital Territory Divisions  female  30-34   \n",
       "4           Canberra  Australian Capital Territory Divisions  female  35-39   \n",
       "\n",
       "   age_lower  age_upper eligible participant  \n",
       "0         18         19    2,433       2,092  \n",
       "1         20         24    6,171       5,084  \n",
       "2         25         29    6,464       5,343  \n",
       "3         30         34    6,359       5,260  \n",
       "4         35         39    6,134       4,990  "
      ]
     },
     "execution_count": 3,
     "metadata": {},
     "output_type": "execute_result"
    }
   ],
   "source": [
    "df.head()"
   ]
  },
  {
   "cell_type": "markdown",
   "metadata": {},
   "source": [
    "# Extracting electorate division data"
   ]
  },
  {
   "cell_type": "code",
   "execution_count": 4,
   "metadata": {},
   "outputs": [
    {
     "data": {
      "text/html": [
       "<div>\n",
       "<style scoped>\n",
       "    .dataframe tbody tr th:only-of-type {\n",
       "        vertical-align: middle;\n",
       "    }\n",
       "\n",
       "    .dataframe tbody tr th {\n",
       "        vertical-align: top;\n",
       "    }\n",
       "\n",
       "    .dataframe thead th {\n",
       "        text-align: right;\n",
       "    }\n",
       "</style>\n",
       "<table border=\"1\" class=\"dataframe\">\n",
       "  <thead>\n",
       "    <tr style=\"text-align: right;\">\n",
       "      <th></th>\n",
       "      <th>division_id</th>\n",
       "      <th>electoral_division</th>\n",
       "      <th>state</th>\n",
       "    </tr>\n",
       "  </thead>\n",
       "  <tbody>\n",
       "    <tr>\n",
       "      <th>0</th>\n",
       "      <td>179</td>\n",
       "      <td>Adelaide</td>\n",
       "      <td>SA</td>\n",
       "    </tr>\n",
       "    <tr>\n",
       "      <th>1</th>\n",
       "      <td>197</td>\n",
       "      <td>Aston</td>\n",
       "      <td>VIC</td>\n",
       "    </tr>\n",
       "    <tr>\n",
       "      <th>2</th>\n",
       "      <td>198</td>\n",
       "      <td>Ballarat</td>\n",
       "      <td>VIC</td>\n",
       "    </tr>\n",
       "    <tr>\n",
       "      <th>3</th>\n",
       "      <td>103</td>\n",
       "      <td>Banks</td>\n",
       "      <td>NSW</td>\n",
       "    </tr>\n",
       "    <tr>\n",
       "      <th>4</th>\n",
       "      <td>180</td>\n",
       "      <td>Barker</td>\n",
       "      <td>SA</td>\n",
       "    </tr>\n",
       "  </tbody>\n",
       "</table>\n",
       "</div>"
      ],
      "text/plain": [
       "   division_id electoral_division state\n",
       "0          179           Adelaide    SA\n",
       "1          197              Aston   VIC\n",
       "2          198           Ballarat   VIC\n",
       "3          103              Banks   NSW\n",
       "4          180             Barker    SA"
      ]
     },
     "execution_count": 4,
     "metadata": {},
     "output_type": "execute_result"
    }
   ],
   "source": [
    "id_df = pd.read_csv('01-output_electoral_division/electoral_division.csv')\n",
    "id_df.head()"
   ]
  },
  {
   "cell_type": "markdown",
   "metadata": {},
   "source": [
    "# Transforming the dataframe to look at age demographics of postal survey"
   ]
  },
  {
   "cell_type": "code",
   "execution_count": 5,
   "metadata": {},
   "outputs": [
    {
     "data": {
      "text/plain": [
       "Index(['electoral_division', 'state', 'gender', 'age', 'age_lower',\n",
       "       'age_upper', 'eligible', 'participant'],\n",
       "      dtype='object')"
      ]
     },
     "execution_count": 5,
     "metadata": {},
     "output_type": "execute_result"
    }
   ],
   "source": [
    "# looking at the column names for marriage postal survey participant database\n",
    "df.columns"
   ]
  },
  {
   "cell_type": "code",
   "execution_count": 6,
   "metadata": {},
   "outputs": [
    {
     "data": {
      "text/plain": [
       "electoral_division    object\n",
       "state                 object\n",
       "gender                object\n",
       "age                   object\n",
       "age_lower              int64\n",
       "age_upper              int64\n",
       "eligible              object\n",
       "participant           object\n",
       "dtype: object"
      ]
     },
     "execution_count": 6,
     "metadata": {},
     "output_type": "execute_result"
    }
   ],
   "source": [
    "# looking at the data types for marriage postal survey participant database\n",
    "df.dtypes"
   ]
  },
  {
   "cell_type": "code",
   "execution_count": 7,
   "metadata": {},
   "outputs": [],
   "source": [
    "# converting participant column to string then integer\n",
    "df[\"participant\"] = df[\"participant\"].astype('str')\n",
    "df[\"participant\"] = df[\"participant\"].str.replace(\",\",\"\").astype(int)"
   ]
  },
  {
   "cell_type": "code",
   "execution_count": 8,
   "metadata": {},
   "outputs": [
    {
     "data": {
      "text/plain": [
       "electoral_division    object\n",
       "state                 object\n",
       "gender                object\n",
       "age                   object\n",
       "age_lower              int64\n",
       "age_upper              int64\n",
       "eligible              object\n",
       "participant            int64\n",
       "dtype: object"
      ]
     },
     "execution_count": 8,
     "metadata": {},
     "output_type": "execute_result"
    }
   ],
   "source": [
    "# checking the data types have changed successfully\n",
    "df.dtypes"
   ]
  },
  {
   "cell_type": "code",
   "execution_count": 9,
   "metadata": {},
   "outputs": [
    {
     "data": {
      "text/plain": [
       "4500"
      ]
     },
     "execution_count": 9,
     "metadata": {},
     "output_type": "execute_result"
    }
   ],
   "source": [
    "len(df)"
   ]
  },
  {
   "cell_type": "code",
   "execution_count": 10,
   "metadata": {},
   "outputs": [
    {
     "data": {
      "text/plain": [
       "4500"
      ]
     },
     "execution_count": 10,
     "metadata": {},
     "output_type": "execute_result"
    }
   ],
   "source": [
    "# dropping any na values \n",
    "df = df.dropna()\n",
    "len(df)"
   ]
  },
  {
   "cell_type": "code",
   "execution_count": 11,
   "metadata": {},
   "outputs": [
    {
     "name": "stdout",
     "output_type": "stream",
     "text": [
      "85+\n",
      "18-19\n",
      "['18-19' '20-24' '25-29' '30-34' '35-39' '40-44' '45-49' '50-54' '55-59'\n",
      " '60-64' '65-69' '70-74' '75-79' '80-84' '85+']\n"
     ]
    }
   ],
   "source": [
    "# looking at the age groups from the marriage postal survey\n",
    "print(df[\"age\"].max())\n",
    "print(df[\"age\"].min())\n",
    "print(df[\"age\"].unique())"
   ]
  },
  {
   "cell_type": "code",
   "execution_count": 12,
   "metadata": {},
   "outputs": [],
   "source": [
    "# need to change the age ranges to match the ABS age groups\n",
    "# create the new bins\n",
    "bins = [18, 34, 49, 64, 79, 125]\n",
    "\n",
    "# create labels for these bins, this is the same as ABS age groups, without 0-17 years\n",
    "group_labels = [\"18-34\", \"35-49\", \"50-64\", \"65-79\", \"80+\"]"
   ]
  },
  {
   "cell_type": "code",
   "execution_count": 13,
   "metadata": {},
   "outputs": [
    {
     "data": {
      "text/html": [
       "<div>\n",
       "<style scoped>\n",
       "    .dataframe tbody tr th:only-of-type {\n",
       "        vertical-align: middle;\n",
       "    }\n",
       "\n",
       "    .dataframe tbody tr th {\n",
       "        vertical-align: top;\n",
       "    }\n",
       "\n",
       "    .dataframe thead th {\n",
       "        text-align: right;\n",
       "    }\n",
       "</style>\n",
       "<table border=\"1\" class=\"dataframe\">\n",
       "  <thead>\n",
       "    <tr style=\"text-align: right;\">\n",
       "      <th></th>\n",
       "      <th>electoral_division</th>\n",
       "      <th>state</th>\n",
       "      <th>gender</th>\n",
       "      <th>age</th>\n",
       "      <th>age_lower</th>\n",
       "      <th>age_upper</th>\n",
       "      <th>eligible</th>\n",
       "      <th>participant</th>\n",
       "      <th>age_group</th>\n",
       "    </tr>\n",
       "  </thead>\n",
       "  <tbody>\n",
       "    <tr>\n",
       "      <th>0</th>\n",
       "      <td>Canberra</td>\n",
       "      <td>Australian Capital Territory Divisions</td>\n",
       "      <td>female</td>\n",
       "      <td>18-19</td>\n",
       "      <td>18</td>\n",
       "      <td>19</td>\n",
       "      <td>2,433</td>\n",
       "      <td>2092</td>\n",
       "      <td>18-34</td>\n",
       "    </tr>\n",
       "    <tr>\n",
       "      <th>1</th>\n",
       "      <td>Canberra</td>\n",
       "      <td>Australian Capital Territory Divisions</td>\n",
       "      <td>female</td>\n",
       "      <td>20-24</td>\n",
       "      <td>20</td>\n",
       "      <td>24</td>\n",
       "      <td>6,171</td>\n",
       "      <td>5084</td>\n",
       "      <td>18-34</td>\n",
       "    </tr>\n",
       "    <tr>\n",
       "      <th>2</th>\n",
       "      <td>Canberra</td>\n",
       "      <td>Australian Capital Territory Divisions</td>\n",
       "      <td>female</td>\n",
       "      <td>25-29</td>\n",
       "      <td>25</td>\n",
       "      <td>29</td>\n",
       "      <td>6,464</td>\n",
       "      <td>5343</td>\n",
       "      <td>18-34</td>\n",
       "    </tr>\n",
       "    <tr>\n",
       "      <th>3</th>\n",
       "      <td>Canberra</td>\n",
       "      <td>Australian Capital Territory Divisions</td>\n",
       "      <td>female</td>\n",
       "      <td>30-34</td>\n",
       "      <td>30</td>\n",
       "      <td>34</td>\n",
       "      <td>6,359</td>\n",
       "      <td>5260</td>\n",
       "      <td>18-34</td>\n",
       "    </tr>\n",
       "    <tr>\n",
       "      <th>4</th>\n",
       "      <td>Canberra</td>\n",
       "      <td>Australian Capital Territory Divisions</td>\n",
       "      <td>female</td>\n",
       "      <td>35-39</td>\n",
       "      <td>35</td>\n",
       "      <td>39</td>\n",
       "      <td>6,134</td>\n",
       "      <td>4990</td>\n",
       "      <td>35-49</td>\n",
       "    </tr>\n",
       "  </tbody>\n",
       "</table>\n",
       "</div>"
      ],
      "text/plain": [
       "  electoral_division                                   state  gender    age  \\\n",
       "0           Canberra  Australian Capital Territory Divisions  female  18-19   \n",
       "1           Canberra  Australian Capital Territory Divisions  female  20-24   \n",
       "2           Canberra  Australian Capital Territory Divisions  female  25-29   \n",
       "3           Canberra  Australian Capital Territory Divisions  female  30-34   \n",
       "4           Canberra  Australian Capital Territory Divisions  female  35-39   \n",
       "\n",
       "   age_lower  age_upper eligible  participant age_group  \n",
       "0         18         19    2,433         2092     18-34  \n",
       "1         20         24    6,171         5084     18-34  \n",
       "2         25         29    6,464         5343     18-34  \n",
       "3         30         34    6,359         5260     18-34  \n",
       "4         35         39    6,134         4990     35-49  "
      ]
     },
     "execution_count": 13,
     "metadata": {},
     "output_type": "execute_result"
    }
   ],
   "source": [
    "# place the data series into a new column inside of the DataFrame\n",
    "df[\"age_group\"]=pd.cut(df[\"age_upper\"], bins, labels=group_labels)\n",
    "df.head()"
   ]
  },
  {
   "cell_type": "code",
   "execution_count": 14,
   "metadata": {},
   "outputs": [],
   "source": [
    "# grouping by electoral_division and age_group\n",
    "grouped_df = df.groupby([\"electoral_division\",\"age_group\"])"
   ]
  },
  {
   "cell_type": "code",
   "execution_count": 15,
   "metadata": {},
   "outputs": [
    {
     "data": {
      "text/plain": [
       "electoral_division  age_group\n",
       "Adelaide            18-34        24474\n",
       "                    35-49        20770\n",
       "                    50-64        22353\n",
       "                    65-79        15429\n",
       "                    80+           5396\n",
       "                                 ...  \n",
       "Wright              18-34        17881\n",
       "                    35-49        21457\n",
       "                    50-64        23840\n",
       "                    65-79        16050\n",
       "                    80+           3317\n",
       "Name: participant, Length: 750, dtype: int64"
      ]
     },
     "execution_count": 15,
     "metadata": {},
     "output_type": "execute_result"
    }
   ],
   "source": [
    "# applying aggregate to groupby - sum of participants by new age groups \n",
    "participants = grouped_df[\"participant\"].sum()\n",
    "participants"
   ]
  },
  {
   "cell_type": "code",
   "execution_count": 16,
   "metadata": {},
   "outputs": [
    {
     "data": {
      "text/html": [
       "<div>\n",
       "<style scoped>\n",
       "    .dataframe tbody tr th:only-of-type {\n",
       "        vertical-align: middle;\n",
       "    }\n",
       "\n",
       "    .dataframe tbody tr th {\n",
       "        vertical-align: top;\n",
       "    }\n",
       "\n",
       "    .dataframe thead th {\n",
       "        text-align: right;\n",
       "    }\n",
       "</style>\n",
       "<table border=\"1\" class=\"dataframe\">\n",
       "  <thead>\n",
       "    <tr style=\"text-align: right;\">\n",
       "      <th></th>\n",
       "      <th></th>\n",
       "      <th>number_participants</th>\n",
       "    </tr>\n",
       "    <tr>\n",
       "      <th>electoral_division</th>\n",
       "      <th>age_group</th>\n",
       "      <th></th>\n",
       "    </tr>\n",
       "  </thead>\n",
       "  <tbody>\n",
       "    <tr>\n",
       "      <th rowspan=\"5\" valign=\"top\">Adelaide</th>\n",
       "      <th>18-34</th>\n",
       "      <td>24474</td>\n",
       "    </tr>\n",
       "    <tr>\n",
       "      <th>35-49</th>\n",
       "      <td>20770</td>\n",
       "    </tr>\n",
       "    <tr>\n",
       "      <th>50-64</th>\n",
       "      <td>22353</td>\n",
       "    </tr>\n",
       "    <tr>\n",
       "      <th>65-79</th>\n",
       "      <td>15429</td>\n",
       "    </tr>\n",
       "    <tr>\n",
       "      <th>80+</th>\n",
       "      <td>5396</td>\n",
       "    </tr>\n",
       "    <tr>\n",
       "      <th>...</th>\n",
       "      <th>...</th>\n",
       "      <td>...</td>\n",
       "    </tr>\n",
       "    <tr>\n",
       "      <th rowspan=\"5\" valign=\"top\">Wright</th>\n",
       "      <th>18-34</th>\n",
       "      <td>17881</td>\n",
       "    </tr>\n",
       "    <tr>\n",
       "      <th>35-49</th>\n",
       "      <td>21457</td>\n",
       "    </tr>\n",
       "    <tr>\n",
       "      <th>50-64</th>\n",
       "      <td>23840</td>\n",
       "    </tr>\n",
       "    <tr>\n",
       "      <th>65-79</th>\n",
       "      <td>16050</td>\n",
       "    </tr>\n",
       "    <tr>\n",
       "      <th>80+</th>\n",
       "      <td>3317</td>\n",
       "    </tr>\n",
       "  </tbody>\n",
       "</table>\n",
       "<p>750 rows × 1 columns</p>\n",
       "</div>"
      ],
      "text/plain": [
       "                              number_participants\n",
       "electoral_division age_group                     \n",
       "Adelaide           18-34                    24474\n",
       "                   35-49                    20770\n",
       "                   50-64                    22353\n",
       "                   65-79                    15429\n",
       "                   80+                       5396\n",
       "...                                           ...\n",
       "Wright             18-34                    17881\n",
       "                   35-49                    21457\n",
       "                   50-64                    23840\n",
       "                   65-79                    16050\n",
       "                   80+                       3317\n",
       "\n",
       "[750 rows x 1 columns]"
      ]
     },
     "execution_count": 16,
     "metadata": {},
     "output_type": "execute_result"
    }
   ],
   "source": [
    "# creating a pandas dataframe with aggregated eligible data as a column\n",
    "participants_age = pd.DataFrame({\n",
    "    \"number_participants\" : participants\n",
    "})\n",
    "participants_age"
   ]
  },
  {
   "cell_type": "code",
   "execution_count": 17,
   "metadata": {},
   "outputs": [
    {
     "data": {
      "text/html": [
       "<div>\n",
       "<style scoped>\n",
       "    .dataframe tbody tr th:only-of-type {\n",
       "        vertical-align: middle;\n",
       "    }\n",
       "\n",
       "    .dataframe tbody tr th {\n",
       "        vertical-align: top;\n",
       "    }\n",
       "\n",
       "    .dataframe thead th {\n",
       "        text-align: right;\n",
       "    }\n",
       "</style>\n",
       "<table border=\"1\" class=\"dataframe\">\n",
       "  <thead>\n",
       "    <tr style=\"text-align: right;\">\n",
       "      <th></th>\n",
       "      <th>age_group</th>\n",
       "      <th>number_participants</th>\n",
       "    </tr>\n",
       "    <tr>\n",
       "      <th>electoral_division</th>\n",
       "      <th></th>\n",
       "      <th></th>\n",
       "    </tr>\n",
       "  </thead>\n",
       "  <tbody>\n",
       "    <tr>\n",
       "      <th>Adelaide</th>\n",
       "      <td>18-34</td>\n",
       "      <td>24474</td>\n",
       "    </tr>\n",
       "    <tr>\n",
       "      <th>Adelaide</th>\n",
       "      <td>35-49</td>\n",
       "      <td>20770</td>\n",
       "    </tr>\n",
       "    <tr>\n",
       "      <th>Adelaide</th>\n",
       "      <td>50-64</td>\n",
       "      <td>22353</td>\n",
       "    </tr>\n",
       "    <tr>\n",
       "      <th>Adelaide</th>\n",
       "      <td>65-79</td>\n",
       "      <td>15429</td>\n",
       "    </tr>\n",
       "    <tr>\n",
       "      <th>Adelaide</th>\n",
       "      <td>80+</td>\n",
       "      <td>5396</td>\n",
       "    </tr>\n",
       "  </tbody>\n",
       "</table>\n",
       "</div>"
      ],
      "text/plain": [
       "                   age_group  number_participants\n",
       "electoral_division                               \n",
       "Adelaide               18-34                24474\n",
       "Adelaide               35-49                20770\n",
       "Adelaide               50-64                22353\n",
       "Adelaide               65-79                15429\n",
       "Adelaide                 80+                 5396"
      ]
     },
     "execution_count": 17,
     "metadata": {},
     "output_type": "execute_result"
    }
   ],
   "source": [
    "# making age_group a column\n",
    "participants_age = participants_age.reset_index(level=['age_group'])\n",
    "participants_age.head()"
   ]
  },
  {
   "cell_type": "code",
   "execution_count": 18,
   "metadata": {},
   "outputs": [
    {
     "data": {
      "text/html": [
       "<div>\n",
       "<style scoped>\n",
       "    .dataframe tbody tr th:only-of-type {\n",
       "        vertical-align: middle;\n",
       "    }\n",
       "\n",
       "    .dataframe tbody tr th {\n",
       "        vertical-align: top;\n",
       "    }\n",
       "\n",
       "    .dataframe thead th {\n",
       "        text-align: right;\n",
       "    }\n",
       "</style>\n",
       "<table border=\"1\" class=\"dataframe\">\n",
       "  <thead>\n",
       "    <tr style=\"text-align: right;\">\n",
       "      <th></th>\n",
       "      <th>electoral_division</th>\n",
       "      <th>age_group</th>\n",
       "      <th>number_participants</th>\n",
       "    </tr>\n",
       "  </thead>\n",
       "  <tbody>\n",
       "    <tr>\n",
       "      <th>0</th>\n",
       "      <td>Adelaide</td>\n",
       "      <td>18-34</td>\n",
       "      <td>24474</td>\n",
       "    </tr>\n",
       "    <tr>\n",
       "      <th>1</th>\n",
       "      <td>Adelaide</td>\n",
       "      <td>35-49</td>\n",
       "      <td>20770</td>\n",
       "    </tr>\n",
       "    <tr>\n",
       "      <th>2</th>\n",
       "      <td>Adelaide</td>\n",
       "      <td>50-64</td>\n",
       "      <td>22353</td>\n",
       "    </tr>\n",
       "    <tr>\n",
       "      <th>3</th>\n",
       "      <td>Adelaide</td>\n",
       "      <td>65-79</td>\n",
       "      <td>15429</td>\n",
       "    </tr>\n",
       "    <tr>\n",
       "      <th>4</th>\n",
       "      <td>Adelaide</td>\n",
       "      <td>80+</td>\n",
       "      <td>5396</td>\n",
       "    </tr>\n",
       "  </tbody>\n",
       "</table>\n",
       "</div>"
      ],
      "text/plain": [
       "  electoral_division age_group  number_participants\n",
       "0           Adelaide     18-34                24474\n",
       "1           Adelaide     35-49                20770\n",
       "2           Adelaide     50-64                22353\n",
       "3           Adelaide     65-79                15429\n",
       "4           Adelaide       80+                 5396"
      ]
     },
     "execution_count": 18,
     "metadata": {},
     "output_type": "execute_result"
    }
   ],
   "source": [
    "# making electoral_division a column\n",
    "participants_age = participants_age.reset_index(level=['electoral_division'])\n",
    "participants_age.head()"
   ]
  },
  {
   "cell_type": "code",
   "execution_count": 19,
   "metadata": {},
   "outputs": [
    {
     "data": {
      "text/html": [
       "<div>\n",
       "<style scoped>\n",
       "    .dataframe tbody tr th:only-of-type {\n",
       "        vertical-align: middle;\n",
       "    }\n",
       "\n",
       "    .dataframe tbody tr th {\n",
       "        vertical-align: top;\n",
       "    }\n",
       "\n",
       "    .dataframe thead tr th {\n",
       "        text-align: left;\n",
       "    }\n",
       "\n",
       "    .dataframe thead tr:last-of-type th {\n",
       "        text-align: right;\n",
       "    }\n",
       "</style>\n",
       "<table border=\"1\" class=\"dataframe\">\n",
       "  <thead>\n",
       "    <tr>\n",
       "      <th></th>\n",
       "      <th colspan=\"5\" halign=\"left\">number_participants</th>\n",
       "    </tr>\n",
       "    <tr>\n",
       "      <th>age_group</th>\n",
       "      <th>18-34</th>\n",
       "      <th>35-49</th>\n",
       "      <th>50-64</th>\n",
       "      <th>65-79</th>\n",
       "      <th>80+</th>\n",
       "    </tr>\n",
       "    <tr>\n",
       "      <th>electoral_division</th>\n",
       "      <th></th>\n",
       "      <th></th>\n",
       "      <th></th>\n",
       "      <th></th>\n",
       "      <th></th>\n",
       "    </tr>\n",
       "  </thead>\n",
       "  <tbody>\n",
       "    <tr>\n",
       "      <th>Adelaide</th>\n",
       "      <td>24474</td>\n",
       "      <td>20770</td>\n",
       "      <td>22353</td>\n",
       "      <td>15429</td>\n",
       "      <td>5396</td>\n",
       "    </tr>\n",
       "    <tr>\n",
       "      <th>Aston</th>\n",
       "      <td>20745</td>\n",
       "      <td>18667</td>\n",
       "      <td>21236</td>\n",
       "      <td>13420</td>\n",
       "      <td>3638</td>\n",
       "    </tr>\n",
       "    <tr>\n",
       "      <th>Ballarat</th>\n",
       "      <td>22345</td>\n",
       "      <td>22008</td>\n",
       "      <td>24709</td>\n",
       "      <td>18264</td>\n",
       "      <td>5257</td>\n",
       "    </tr>\n",
       "    <tr>\n",
       "      <th>Banks</th>\n",
       "      <td>20562</td>\n",
       "      <td>20416</td>\n",
       "      <td>22008</td>\n",
       "      <td>14571</td>\n",
       "      <td>6289</td>\n",
       "    </tr>\n",
       "    <tr>\n",
       "      <th>Barker</th>\n",
       "      <td>14079</td>\n",
       "      <td>16493</td>\n",
       "      <td>24109</td>\n",
       "      <td>20212</td>\n",
       "      <td>6231</td>\n",
       "    </tr>\n",
       "  </tbody>\n",
       "</table>\n",
       "</div>"
      ],
      "text/plain": [
       "                   number_participants                           \n",
       "age_group                        18-34  35-49  50-64  65-79   80+\n",
       "electoral_division                                               \n",
       "Adelaide                         24474  20770  22353  15429  5396\n",
       "Aston                            20745  18667  21236  13420  3638\n",
       "Ballarat                         22345  22008  24709  18264  5257\n",
       "Banks                            20562  20416  22008  14571  6289\n",
       "Barker                           14079  16493  24109  20212  6231"
      ]
     },
     "execution_count": 19,
     "metadata": {},
     "output_type": "execute_result"
    }
   ],
   "source": [
    "# unstacking the age_groups so they become columns\n",
    "participants_age = participants_age.set_index([\"age_group\", \"electoral_division\"]).unstack(level=0)\n",
    "participants_age.head()"
   ]
  },
  {
   "cell_type": "code",
   "execution_count": 20,
   "metadata": {},
   "outputs": [
    {
     "data": {
      "text/plain": [
       "MultiIndex([('number_participants', '18-34'),\n",
       "            ('number_participants', '35-49'),\n",
       "            ('number_participants', '50-64'),\n",
       "            ('number_participants', '65-79'),\n",
       "            ('number_participants',   '80+')],\n",
       "           names=[None, 'age_group'])"
      ]
     },
     "execution_count": 20,
     "metadata": {},
     "output_type": "execute_result"
    }
   ],
   "source": [
    "# looking at the column names\n",
    "participants_age.columns"
   ]
  },
  {
   "cell_type": "code",
   "execution_count": 21,
   "metadata": {},
   "outputs": [
    {
     "data": {
      "text/plain": [
       "Index(['Adelaide', 'Aston', 'Ballarat', 'Banks', 'Barker', 'Barton', 'Bass',\n",
       "       'Batman', 'Bendigo', 'Bennelong',\n",
       "       ...\n",
       "       'Wakefield', 'Wannon', 'Warringah', 'Watson', 'Wentworth', 'Werriwa',\n",
       "       'Whitlam', 'Wide Bay', 'Wills', 'Wright'],\n",
       "      dtype='object', name='electoral_division', length=150)"
      ]
     },
     "execution_count": 21,
     "metadata": {},
     "output_type": "execute_result"
    }
   ],
   "source": [
    "participants_age.index"
   ]
  },
  {
   "cell_type": "code",
   "execution_count": 22,
   "metadata": {},
   "outputs": [
    {
     "data": {
      "text/html": [
       "<div>\n",
       "<style scoped>\n",
       "    .dataframe tbody tr th:only-of-type {\n",
       "        vertical-align: middle;\n",
       "    }\n",
       "\n",
       "    .dataframe tbody tr th {\n",
       "        vertical-align: top;\n",
       "    }\n",
       "\n",
       "    .dataframe thead th {\n",
       "        text-align: right;\n",
       "    }\n",
       "</style>\n",
       "<table border=\"1\" class=\"dataframe\">\n",
       "  <thead>\n",
       "    <tr style=\"text-align: right;\">\n",
       "      <th></th>\n",
       "      <th>ages_18_34</th>\n",
       "      <th>ages_35_49</th>\n",
       "      <th>ages_50_64</th>\n",
       "      <th>ages_65_79</th>\n",
       "      <th>ages_80_plus</th>\n",
       "    </tr>\n",
       "    <tr>\n",
       "      <th>electoral_division</th>\n",
       "      <th></th>\n",
       "      <th></th>\n",
       "      <th></th>\n",
       "      <th></th>\n",
       "      <th></th>\n",
       "    </tr>\n",
       "  </thead>\n",
       "  <tbody>\n",
       "    <tr>\n",
       "      <th>Adelaide</th>\n",
       "      <td>24474</td>\n",
       "      <td>20770</td>\n",
       "      <td>22353</td>\n",
       "      <td>15429</td>\n",
       "      <td>5396</td>\n",
       "    </tr>\n",
       "    <tr>\n",
       "      <th>Aston</th>\n",
       "      <td>20745</td>\n",
       "      <td>18667</td>\n",
       "      <td>21236</td>\n",
       "      <td>13420</td>\n",
       "      <td>3638</td>\n",
       "    </tr>\n",
       "    <tr>\n",
       "      <th>Ballarat</th>\n",
       "      <td>22345</td>\n",
       "      <td>22008</td>\n",
       "      <td>24709</td>\n",
       "      <td>18264</td>\n",
       "      <td>5257</td>\n",
       "    </tr>\n",
       "    <tr>\n",
       "      <th>Banks</th>\n",
       "      <td>20562</td>\n",
       "      <td>20416</td>\n",
       "      <td>22008</td>\n",
       "      <td>14571</td>\n",
       "      <td>6289</td>\n",
       "    </tr>\n",
       "    <tr>\n",
       "      <th>Barker</th>\n",
       "      <td>14079</td>\n",
       "      <td>16493</td>\n",
       "      <td>24109</td>\n",
       "      <td>20212</td>\n",
       "      <td>6231</td>\n",
       "    </tr>\n",
       "  </tbody>\n",
       "</table>\n",
       "</div>"
      ],
      "text/plain": [
       "                    ages_18_34  ages_35_49  ages_50_64  ages_65_79  \\\n",
       "electoral_division                                                   \n",
       "Adelaide                 24474       20770       22353       15429   \n",
       "Aston                    20745       18667       21236       13420   \n",
       "Ballarat                 22345       22008       24709       18264   \n",
       "Banks                    20562       20416       22008       14571   \n",
       "Barker                   14079       16493       24109       20212   \n",
       "\n",
       "                    ages_80_plus  \n",
       "electoral_division                \n",
       "Adelaide                    5396  \n",
       "Aston                       3638  \n",
       "Ballarat                    5257  \n",
       "Banks                       6289  \n",
       "Barker                      6231  "
      ]
     },
     "execution_count": 22,
     "metadata": {},
     "output_type": "execute_result"
    }
   ],
   "source": [
    "# renaming the columns\n",
    "participants_age.columns = ['ages_18_34', 'ages_35_49', 'ages_50_64', 'ages_65_79', 'ages_80_plus']\n",
    "participants_age.head()"
   ]
  },
  {
   "cell_type": "code",
   "execution_count": 23,
   "metadata": {},
   "outputs": [
    {
     "data": {
      "text/plain": [
       "Index(['electoral_division', 'ages_18_34', 'ages_35_49', 'ages_50_64',\n",
       "       'ages_65_79', 'ages_80_plus'],\n",
       "      dtype='object')"
      ]
     },
     "execution_count": 23,
     "metadata": {},
     "output_type": "execute_result"
    }
   ],
   "source": [
    "# making electoral_division a column instead of index\n",
    "participants_age = participants_age.reset_index(level=['electoral_division'])\n",
    "participants_age.columns"
   ]
  },
  {
   "cell_type": "code",
   "execution_count": 24,
   "metadata": {},
   "outputs": [
    {
     "data": {
      "text/plain": [
       "150"
      ]
     },
     "execution_count": 24,
     "metadata": {},
     "output_type": "execute_result"
    }
   ],
   "source": [
    "# looking at the length of the dataframe before merging with division id\n",
    "len(participants_age)"
   ]
  },
  {
   "cell_type": "code",
   "execution_count": 25,
   "metadata": {},
   "outputs": [
    {
     "data": {
      "text/html": [
       "<div>\n",
       "<style scoped>\n",
       "    .dataframe tbody tr th:only-of-type {\n",
       "        vertical-align: middle;\n",
       "    }\n",
       "\n",
       "    .dataframe tbody tr th {\n",
       "        vertical-align: top;\n",
       "    }\n",
       "\n",
       "    .dataframe thead th {\n",
       "        text-align: right;\n",
       "    }\n",
       "</style>\n",
       "<table border=\"1\" class=\"dataframe\">\n",
       "  <thead>\n",
       "    <tr style=\"text-align: right;\">\n",
       "      <th></th>\n",
       "      <th>electoral_division</th>\n",
       "      <th>ages_18_34</th>\n",
       "      <th>ages_35_49</th>\n",
       "      <th>ages_50_64</th>\n",
       "      <th>ages_65_79</th>\n",
       "      <th>ages_80_plus</th>\n",
       "      <th>division_id</th>\n",
       "      <th>state</th>\n",
       "    </tr>\n",
       "  </thead>\n",
       "  <tbody>\n",
       "    <tr>\n",
       "      <th>0</th>\n",
       "      <td>Adelaide</td>\n",
       "      <td>24474</td>\n",
       "      <td>20770</td>\n",
       "      <td>22353</td>\n",
       "      <td>15429</td>\n",
       "      <td>5396</td>\n",
       "      <td>179</td>\n",
       "      <td>SA</td>\n",
       "    </tr>\n",
       "    <tr>\n",
       "      <th>1</th>\n",
       "      <td>Aston</td>\n",
       "      <td>20745</td>\n",
       "      <td>18667</td>\n",
       "      <td>21236</td>\n",
       "      <td>13420</td>\n",
       "      <td>3638</td>\n",
       "      <td>197</td>\n",
       "      <td>VIC</td>\n",
       "    </tr>\n",
       "    <tr>\n",
       "      <th>2</th>\n",
       "      <td>Ballarat</td>\n",
       "      <td>22345</td>\n",
       "      <td>22008</td>\n",
       "      <td>24709</td>\n",
       "      <td>18264</td>\n",
       "      <td>5257</td>\n",
       "      <td>198</td>\n",
       "      <td>VIC</td>\n",
       "    </tr>\n",
       "    <tr>\n",
       "      <th>3</th>\n",
       "      <td>Banks</td>\n",
       "      <td>20562</td>\n",
       "      <td>20416</td>\n",
       "      <td>22008</td>\n",
       "      <td>14571</td>\n",
       "      <td>6289</td>\n",
       "      <td>103</td>\n",
       "      <td>NSW</td>\n",
       "    </tr>\n",
       "    <tr>\n",
       "      <th>4</th>\n",
       "      <td>Barker</td>\n",
       "      <td>14079</td>\n",
       "      <td>16493</td>\n",
       "      <td>24109</td>\n",
       "      <td>20212</td>\n",
       "      <td>6231</td>\n",
       "      <td>180</td>\n",
       "      <td>SA</td>\n",
       "    </tr>\n",
       "  </tbody>\n",
       "</table>\n",
       "</div>"
      ],
      "text/plain": [
       "  electoral_division  ages_18_34  ages_35_49  ages_50_64  ages_65_79  \\\n",
       "0           Adelaide       24474       20770       22353       15429   \n",
       "1              Aston       20745       18667       21236       13420   \n",
       "2           Ballarat       22345       22008       24709       18264   \n",
       "3              Banks       20562       20416       22008       14571   \n",
       "4             Barker       14079       16493       24109       20212   \n",
       "\n",
       "   ages_80_plus  division_id state  \n",
       "0          5396          179    SA  \n",
       "1          3638          197   VIC  \n",
       "2          5257          198   VIC  \n",
       "3          6289          103   NSW  \n",
       "4          6231          180    SA  "
      ]
     },
     "execution_count": 25,
     "metadata": {},
     "output_type": "execute_result"
    }
   ],
   "source": [
    "# merging with id_df dataframe\n",
    "combined_df = pd.merge(participants_age, id_df, how=\"outer\", on=\"electoral_division\")\n",
    "combined_df.head()"
   ]
  },
  {
   "cell_type": "code",
   "execution_count": 26,
   "metadata": {},
   "outputs": [
    {
     "data": {
      "text/plain": [
       "150"
      ]
     },
     "execution_count": 26,
     "metadata": {},
     "output_type": "execute_result"
    }
   ],
   "source": [
    "len(combined_df)"
   ]
  },
  {
   "cell_type": "code",
   "execution_count": 27,
   "metadata": {},
   "outputs": [
    {
     "data": {
      "text/html": [
       "<div>\n",
       "<style scoped>\n",
       "    .dataframe tbody tr th:only-of-type {\n",
       "        vertical-align: middle;\n",
       "    }\n",
       "\n",
       "    .dataframe tbody tr th {\n",
       "        vertical-align: top;\n",
       "    }\n",
       "\n",
       "    .dataframe thead th {\n",
       "        text-align: right;\n",
       "    }\n",
       "</style>\n",
       "<table border=\"1\" class=\"dataframe\">\n",
       "  <thead>\n",
       "    <tr style=\"text-align: right;\">\n",
       "      <th></th>\n",
       "      <th>division_id</th>\n",
       "      <th>ages_18_34</th>\n",
       "      <th>ages_35_49</th>\n",
       "      <th>ages_50_64</th>\n",
       "      <th>ages_65_79</th>\n",
       "      <th>ages_80_plus</th>\n",
       "    </tr>\n",
       "  </thead>\n",
       "  <tbody>\n",
       "    <tr>\n",
       "      <th>0</th>\n",
       "      <td>179</td>\n",
       "      <td>24474</td>\n",
       "      <td>20770</td>\n",
       "      <td>22353</td>\n",
       "      <td>15429</td>\n",
       "      <td>5396</td>\n",
       "    </tr>\n",
       "    <tr>\n",
       "      <th>1</th>\n",
       "      <td>197</td>\n",
       "      <td>20745</td>\n",
       "      <td>18667</td>\n",
       "      <td>21236</td>\n",
       "      <td>13420</td>\n",
       "      <td>3638</td>\n",
       "    </tr>\n",
       "    <tr>\n",
       "      <th>2</th>\n",
       "      <td>198</td>\n",
       "      <td>22345</td>\n",
       "      <td>22008</td>\n",
       "      <td>24709</td>\n",
       "      <td>18264</td>\n",
       "      <td>5257</td>\n",
       "    </tr>\n",
       "    <tr>\n",
       "      <th>3</th>\n",
       "      <td>103</td>\n",
       "      <td>20562</td>\n",
       "      <td>20416</td>\n",
       "      <td>22008</td>\n",
       "      <td>14571</td>\n",
       "      <td>6289</td>\n",
       "    </tr>\n",
       "    <tr>\n",
       "      <th>4</th>\n",
       "      <td>180</td>\n",
       "      <td>14079</td>\n",
       "      <td>16493</td>\n",
       "      <td>24109</td>\n",
       "      <td>20212</td>\n",
       "      <td>6231</td>\n",
       "    </tr>\n",
       "  </tbody>\n",
       "</table>\n",
       "</div>"
      ],
      "text/plain": [
       "   division_id  ages_18_34  ages_35_49  ages_50_64  ages_65_79  ages_80_plus\n",
       "0          179       24474       20770       22353       15429          5396\n",
       "1          197       20745       18667       21236       13420          3638\n",
       "2          198       22345       22008       24709       18264          5257\n",
       "3          103       20562       20416       22008       14571          6289\n",
       "4          180       14079       16493       24109       20212          6231"
      ]
     },
     "execution_count": 27,
     "metadata": {},
     "output_type": "execute_result"
    }
   ],
   "source": [
    "# columns we want to keep, in the order we want to keepn them\n",
    "columns = ['division_id', 'ages_18_34', 'ages_35_49', 'ages_50_64', 'ages_65_79', 'ages_80_plus']\n",
    "combined_df = combined_df[columns]\n",
    "combined_df.head()"
   ]
  },
  {
   "cell_type": "code",
   "execution_count": 28,
   "metadata": {},
   "outputs": [
    {
     "data": {
      "text/plain": [
       "True"
      ]
     },
     "execution_count": 28,
     "metadata": {},
     "output_type": "execute_result"
    }
   ],
   "source": [
    "# are all the division id values unique?\n",
    "combined_df['division_id'].is_unique"
   ]
  },
  {
   "cell_type": "code",
   "execution_count": 29,
   "metadata": {},
   "outputs": [
    {
     "data": {
      "text/html": [
       "<div>\n",
       "<style scoped>\n",
       "    .dataframe tbody tr th:only-of-type {\n",
       "        vertical-align: middle;\n",
       "    }\n",
       "\n",
       "    .dataframe tbody tr th {\n",
       "        vertical-align: top;\n",
       "    }\n",
       "\n",
       "    .dataframe thead th {\n",
       "        text-align: right;\n",
       "    }\n",
       "</style>\n",
       "<table border=\"1\" class=\"dataframe\">\n",
       "  <thead>\n",
       "    <tr style=\"text-align: right;\">\n",
       "      <th></th>\n",
       "      <th>ages_18_34</th>\n",
       "      <th>ages_35_49</th>\n",
       "      <th>ages_50_64</th>\n",
       "      <th>ages_65_79</th>\n",
       "      <th>ages_80_plus</th>\n",
       "    </tr>\n",
       "    <tr>\n",
       "      <th>division_id</th>\n",
       "      <th></th>\n",
       "      <th></th>\n",
       "      <th></th>\n",
       "      <th></th>\n",
       "      <th></th>\n",
       "    </tr>\n",
       "  </thead>\n",
       "  <tbody>\n",
       "    <tr>\n",
       "      <th>179</th>\n",
       "      <td>24474</td>\n",
       "      <td>20770</td>\n",
       "      <td>22353</td>\n",
       "      <td>15429</td>\n",
       "      <td>5396</td>\n",
       "    </tr>\n",
       "    <tr>\n",
       "      <th>197</th>\n",
       "      <td>20745</td>\n",
       "      <td>18667</td>\n",
       "      <td>21236</td>\n",
       "      <td>13420</td>\n",
       "      <td>3638</td>\n",
       "    </tr>\n",
       "    <tr>\n",
       "      <th>198</th>\n",
       "      <td>22345</td>\n",
       "      <td>22008</td>\n",
       "      <td>24709</td>\n",
       "      <td>18264</td>\n",
       "      <td>5257</td>\n",
       "    </tr>\n",
       "    <tr>\n",
       "      <th>103</th>\n",
       "      <td>20562</td>\n",
       "      <td>20416</td>\n",
       "      <td>22008</td>\n",
       "      <td>14571</td>\n",
       "      <td>6289</td>\n",
       "    </tr>\n",
       "    <tr>\n",
       "      <th>180</th>\n",
       "      <td>14079</td>\n",
       "      <td>16493</td>\n",
       "      <td>24109</td>\n",
       "      <td>20212</td>\n",
       "      <td>6231</td>\n",
       "    </tr>\n",
       "  </tbody>\n",
       "</table>\n",
       "</div>"
      ],
      "text/plain": [
       "             ages_18_34  ages_35_49  ages_50_64  ages_65_79  ages_80_plus\n",
       "division_id                                                              \n",
       "179               24474       20770       22353       15429          5396\n",
       "197               20745       18667       21236       13420          3638\n",
       "198               22345       22008       24709       18264          5257\n",
       "103               20562       20416       22008       14571          6289\n",
       "180               14079       16493       24109       20212          6231"
      ]
     },
     "execution_count": 29,
     "metadata": {},
     "output_type": "execute_result"
    }
   ],
   "source": [
    "# setting the index as division_id\n",
    "combined_df = combined_df.set_index(\"division_id\")\n",
    "combined_df.head()"
   ]
  },
  {
   "cell_type": "markdown",
   "metadata": {},
   "source": [
    "# Exploratory data analysis"
   ]
  },
  {
   "cell_type": "code",
   "execution_count": 30,
   "metadata": {},
   "outputs": [
    {
     "data": {
      "text/html": [
       "<div>\n",
       "<style scoped>\n",
       "    .dataframe tbody tr th:only-of-type {\n",
       "        vertical-align: middle;\n",
       "    }\n",
       "\n",
       "    .dataframe tbody tr th {\n",
       "        vertical-align: top;\n",
       "    }\n",
       "\n",
       "    .dataframe thead th {\n",
       "        text-align: right;\n",
       "    }\n",
       "</style>\n",
       "<table border=\"1\" class=\"dataframe\">\n",
       "  <thead>\n",
       "    <tr style=\"text-align: right;\">\n",
       "      <th></th>\n",
       "      <th>ages_18_34</th>\n",
       "      <th>ages_35_49</th>\n",
       "      <th>ages_50_64</th>\n",
       "      <th>ages_65_79</th>\n",
       "      <th>ages_80_plus</th>\n",
       "    </tr>\n",
       "  </thead>\n",
       "  <tbody>\n",
       "    <tr>\n",
       "      <th>count</th>\n",
       "      <td>150.000000</td>\n",
       "      <td>150.000000</td>\n",
       "      <td>150.000000</td>\n",
       "      <td>150.000000</td>\n",
       "      <td>150.000000</td>\n",
       "    </tr>\n",
       "    <tr>\n",
       "      <th>mean</th>\n",
       "      <td>20992.033333</td>\n",
       "      <td>20629.660000</td>\n",
       "      <td>21890.700000</td>\n",
       "      <td>15800.180000</td>\n",
       "      <td>4849.273333</td>\n",
       "    </tr>\n",
       "    <tr>\n",
       "      <th>std</th>\n",
       "      <td>4977.168869</td>\n",
       "      <td>3797.793451</td>\n",
       "      <td>2808.196607</td>\n",
       "      <td>3768.641072</td>\n",
       "      <td>1513.840052</td>\n",
       "    </tr>\n",
       "    <tr>\n",
       "      <th>min</th>\n",
       "      <td>9850.000000</td>\n",
       "      <td>10237.000000</td>\n",
       "      <td>10196.000000</td>\n",
       "      <td>4027.000000</td>\n",
       "      <td>510.000000</td>\n",
       "    </tr>\n",
       "    <tr>\n",
       "      <th>25%</th>\n",
       "      <td>17770.000000</td>\n",
       "      <td>18675.750000</td>\n",
       "      <td>20103.000000</td>\n",
       "      <td>13303.500000</td>\n",
       "      <td>3762.750000</td>\n",
       "    </tr>\n",
       "    <tr>\n",
       "      <th>50%</th>\n",
       "      <td>20752.500000</td>\n",
       "      <td>20371.500000</td>\n",
       "      <td>21910.500000</td>\n",
       "      <td>15228.500000</td>\n",
       "      <td>4956.000000</td>\n",
       "    </tr>\n",
       "    <tr>\n",
       "      <th>75%</th>\n",
       "      <td>22913.000000</td>\n",
       "      <td>22380.250000</td>\n",
       "      <td>23670.000000</td>\n",
       "      <td>18294.750000</td>\n",
       "      <td>5818.500000</td>\n",
       "    </tr>\n",
       "    <tr>\n",
       "      <th>max</th>\n",
       "      <td>40693.000000</td>\n",
       "      <td>34439.000000</td>\n",
       "      <td>30462.000000</td>\n",
       "      <td>27832.000000</td>\n",
       "      <td>8493.000000</td>\n",
       "    </tr>\n",
       "  </tbody>\n",
       "</table>\n",
       "</div>"
      ],
      "text/plain": [
       "         ages_18_34    ages_35_49    ages_50_64    ages_65_79  ages_80_plus\n",
       "count    150.000000    150.000000    150.000000    150.000000    150.000000\n",
       "mean   20992.033333  20629.660000  21890.700000  15800.180000   4849.273333\n",
       "std     4977.168869   3797.793451   2808.196607   3768.641072   1513.840052\n",
       "min     9850.000000  10237.000000  10196.000000   4027.000000    510.000000\n",
       "25%    17770.000000  18675.750000  20103.000000  13303.500000   3762.750000\n",
       "50%    20752.500000  20371.500000  21910.500000  15228.500000   4956.000000\n",
       "75%    22913.000000  22380.250000  23670.000000  18294.750000   5818.500000\n",
       "max    40693.000000  34439.000000  30462.000000  27832.000000   8493.000000"
      ]
     },
     "execution_count": 30,
     "metadata": {},
     "output_type": "execute_result"
    }
   ],
   "source": [
    "# summary statistics table\n",
    "combined_df.describe()"
   ]
  },
  {
   "cell_type": "code",
   "execution_count": 31,
   "metadata": {},
   "outputs": [
    {
     "data": {
      "text/plain": [
       "<matplotlib.axes._subplots.AxesSubplot at 0x7f855b6bfc88>"
      ]
     },
     "execution_count": 31,
     "metadata": {},
     "output_type": "execute_result"
    },
    {
     "data": {
      "image/png": "[encoded data removed]",
      "text/plain": [
       "<Figure size 5760x2880 with 1 Axes>"
      ]
     },
     "metadata": {
      "needs_background": "light"
     },
     "output_type": "display_data"
    }
   ],
   "source": [
    "# stacked barchart to compare participants from each age group for each electoral division\n",
    "combined_df.plot.bar(rot=90, stacked=True, figsize=(80,40))"
   ]
  },
  {
   "cell_type": "markdown",
   "metadata": {},
   "source": [
    "# Exporting DataFrame to CSV"
   ]
  },
  {
   "cell_type": "code",
   "execution_count": 32,
   "metadata": {},
   "outputs": [],
   "source": [
    "combined_df.to_csv(\"07-output_marriage_postal_participants_by_age/marriage_postal_participants_by_age.csv\")"
   ]
  }
 ],
 "metadata": {
  "kernelspec": {
   "display_name": "Python 3",
   "language": "python",
   "name": "python3"
  },
  "language_info": {
   "codemirror_mode": {
    "name": "ipython",
    "version": 3
   },
   "file_extension": ".py",
   "mimetype": "text/x-python",
   "name": "python",
   "nbconvert_exporter": "python",
   "pygments_lexer": "ipython3",
   "version": "3.6.10"
  }
 },
 "nbformat": 4,
 "nbformat_minor": 4
}
